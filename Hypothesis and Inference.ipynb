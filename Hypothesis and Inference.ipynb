{
 "cells": [
  {
   "cell_type": "markdown",
   "metadata": {},
   "source": [
    "# Statistical Hypothesis Testing"
   ]
  },
  {
   "cell_type": "code",
   "execution_count": 7,
   "metadata": {},
   "outputs": [],
   "source": [
    "import math\n",
    "from lib.probability import (\n",
    "    normal_cdf,\n",
    "    inverse_normal_cdf\n",
    ")\n",
    "\n",
    "\n",
    "# Example: Flipping a Coin\n",
    "# Imagine we have a coin and we want to test whether it’s fair. We’ll make the assump‐\n",
    "# tion that the coin has some probability p of landing heads, and so our null hypothesis \n",
    "# is that the coin is fair—that is, that p = 0 . 5. We’ll test this against the alternative\n",
    "# hypothesis p ≠ 0 . 5\n",
    "\n",
    "def normal_approximation_to_binomial(n, p):\n",
    "    \"\"\"finds mu and sigma corresponding to a Binomial(n, p)\"\"\"\n",
    "    mu = p * n\n",
    "    sigma = math.sqrt(p * (1 - p) * n)\n",
    "    return mu, sigma\n",
    "\n",
    "# the normal cdf is the probability the variable is below a threshold\n",
    "normal_probability_below = normal_cdf\n",
    "\n",
    "# it's above the threshold if it's not below the threshold\n",
    "def normal_probability_above(lo, mu=0, sigma=1):\n",
    "    return 1 - normal_cdf(lo, mu, sigma)\n",
    "\n",
    "# it's between if it's less than hi, but not less than lo\n",
    "def normal_probability_between(lo, hi, mu=0, sigma=1):\n",
    "    return normal_cdf(hi, mu, sigma) - normal_cdf(lo, mu, sigma)\n",
    "\n",
    "# it's outside if it's not between\n",
    "def normal_probability_outside(lo, hi, mu=0, sigma=1):\n",
    "    return 1 - normal_probability_between(lo, hi, mu, sigma)\n",
    "\n",
    "def normal_upper_bound(probability, mu=0, sigma=1):\n",
    "    \"\"\"returns the z for which P(Z <= z) = probability\"\"\"\n",
    "    return inverse_normal_cdf(probability, mu, sigma)\n",
    "\n",
    "def normal_lower_bound(probability, mu=0, sigma=1):\n",
    "    \"\"\"returns the z for which P(Z >= z) = probability\"\"\"\n",
    "    return inverse_normal_cdf(1 - probability, mu, sigma)\n",
    "\n",
    "def normal_two_sided_bounds(probability, mu=0, sigma=1):\n",
    "    \"\"\"returns the symmetric (about the mean) \n",
    "    that contain the specified probability\"\"\"\n",
    "    tail_probability = (1 - probability) / 2\n",
    "    # upper bound should have tail_probability  above it\n",
    "    upper_bound = normal_lower_bound(tail_probability, mu, sigma)\n",
    "    # lower bound should have tail_probability below it\n",
    "    lower_bound = normal_upper_bound(tail_probability, mu, sigma)\n",
    "    return lower_bound, upper_bound"
   ]
  },
  {
   "cell_type": "code",
   "execution_count": 8,
   "metadata": {},
   "outputs": [
    {
     "name": "stdout",
     "output_type": "stream",
     "text": [
      "mu :  500.0\n",
      "sigma :  15.811388300841896\n"
     ]
    }
   ],
   "source": [
    "# In particular, let’s say that we choose to flip the coin n = 1000 times. If our hypothesis\n",
    "# of fairness is true, X should be distributed approximately normally with mean 50 and\n",
    "# standard deviation 15.8:\n",
    "\n",
    "mu_0, sigma_0 = normal_approximation_to_binomial(1000, 0.5)\n",
    "print('mu : ', mu_0)\n",
    "print('sigma : ', sigma_0)"
   ]
  },
  {
   "cell_type": "code",
   "execution_count": 24,
   "metadata": {},
   "outputs": [
    {
     "name": "stdout",
     "output_type": "stream",
     "text": [
      "lower bound :  489.3354374162956\n",
      "upper bound :  510.6645625837044\n"
     ]
    }
   ],
   "source": [
    "# We need to make a decision about significance—how willing we are to make a type 1\n",
    "# error (“false positive”), in which we reject H 0 even though it’s true. For reasons lost to\n",
    "# the annals of history, this willingness is often set at 5% or 1%. Let’s choose 5%.\n",
    "# Consider the test that rejects H 0 if X falls outside the bounds given by:\n",
    "\n",
    "lo, hi = normal_two_sided_bounds(0.5, mu_0, sigma_0)\n",
    "print(\"lower bound : \", lo)\n",
    "print(\"upper bound : \", hi)"
   ]
  },
  {
   "cell_type": "code",
   "execution_count": 14,
   "metadata": {
    "scrolled": true
   },
   "outputs": [
    {
     "name": "stdout",
     "output_type": "stream",
     "text": [
      "mu_1 :  550.0\n",
      "sigma_1 :  15.732132722552274\n"
     ]
    }
   ],
   "source": [
    "# Assuming p really equals 0.5 (i.e., H 0 is true), there is just a 5% chance we observe an\n",
    "# X that lies outside this interval, which is the exact significance we wanted. Said differ‐\n",
    "# ently, if H 0 is true, then, approximately 19 times out of 20, this test will give the cor‐\n",
    "# rect result.\n",
    "# We are also often interested in the power of a test, which is the probability of not\n",
    "# making a type 2 error, in which we fail to reject H 0 even though it’s false. In order to\n",
    "# measure this, we have to specify what exactly H 0 being false means. (Knowing merely\n",
    "# that p is not 0.5 doesn’t give you a ton of information about the distribution of X.) In\n",
    "# particular, let’s check what happens if p is really 0.55, so that the coin is slightly biased\n",
    "# toward heads.\n",
    "# In that case, we can calculate the power of the test with:\n",
    "\n",
    "# actual mu and sigma based on p = 0.55\n",
    "mu_1, sigma_1 = normal_approximation_to_binomial(1000, 0.55)\n",
    "print(\"mu_1 : \", mu_1)\n",
    "print(\"sigma_1 : \", sigma_1)"
   ]
  },
  {
   "cell_type": "code",
   "execution_count": 26,
   "metadata": {},
   "outputs": [
    {
     "name": "stdout",
     "output_type": "stream",
     "text": [
      "type_2_probability :  0.06356291276992415\n",
      "power :  0.9364370872300758\n"
     ]
    }
   ],
   "source": [
    "# a type 2 error means we fail to reject the null hypothesis\n",
    "# which will happen when X is still in our original interval\n",
    "type_2_probability = normal_probability_between(lo, hi, mu_1, sigma_1)\n",
    "power = 1 - type_2_probability\n",
    "print(\"type_2_probability : \", type_2_probability)\n",
    "print(\"power : \", power)"
   ]
  },
  {
   "cell_type": "code",
   "execution_count": 27,
   "metadata": {},
   "outputs": [
    {
     "name": "stdout",
     "output_type": "stream",
     "text": [
      "hi :  526.0073585242053\n",
      "type_2_probability :  0.06362051966928273\n",
      "power :  0.9363794803307173\n"
     ]
    }
   ],
   "source": [
    "# Imagine instead that our null hypothesis was that the coin is not biased toward heads,\n",
    "# or that p ≤ 0 . 5. In that case we want a one-sided test that rejects the null hypothesis\n",
    "# when X is much larger than 50 but not when X is smaller than 50. So a 5% significance test \n",
    "# involves using normal_probability_below to find the cutoff below\n",
    "# which 95% of the probability lies:\n",
    "\n",
    "hi = normal_upper_bound(0.95, mu_0, sigma_0)\n",
    "# is 526 (< 531, since we need more probability in the upper tail)\n",
    "type_2_probability = normal_probability_below(hi, mu_1, sigma_1)\n",
    "power = 1 - type_2_probability\n",
    "print(\"hi : \", hi)\n",
    "print(\"type_2_probability : \", type_2_probability)\n",
    "print(\"power : \", power)"
   ]
  },
  {
   "cell_type": "code",
   "execution_count": 28,
   "metadata": {},
   "outputs": [
    {
     "data": {
      "text/plain": [
       "0.06207721579598857"
      ]
     },
     "execution_count": 28,
     "metadata": {},
     "output_type": "execute_result"
    }
   ],
   "source": [
    "# This is a more powerful test, since it no longer rejects H 0 when X is below 469 (which\n",
    "# is very unlikely to happen if H 1 is true) and instead rejects H 0 when X is between 526\n",
    "# and 531 (which is somewhat likely to happen if H 1 is true). === p-values\n",
    "# An alternative way of thinking about the preceding test involves p-values. Instead of\n",
    "# choosing bounds based on some probability cutoff, we compute the probability—\n",
    "# assuming H 0 is true—that we would see a value at least as extreme as the one we\n",
    "# actually observed.\n",
    "# For our two-sided test of whether the coin is fair, we compute:\n",
    "\n",
    "def two_sided_p_value(x, mu=0, sigma=1):\n",
    "    if x >= mu:\n",
    "        # if x is greater than the mean, the tail is what's greater than x\n",
    "        return 2 * normal_probability_above(x, mu, sigma)\n",
    "    else:\n",
    "        # if x is less than the mean, the tail is what's less than x\n",
    "        return 2 * normal_probability_below(x, mu, sigma)\n",
    "\n",
    "two_sided_p_value(529.5, mu_0, sigma_0)"
   ]
  },
  {
   "cell_type": "code",
   "execution_count": 31,
   "metadata": {},
   "outputs": [
    {
     "name": "stdout",
     "output_type": "stream",
     "text": [
      "6274 / 100000 = 0.06274\n"
     ]
    }
   ],
   "source": [
    "import random\n",
    "\n",
    "\n",
    "# One way to convince yourself that this is a sensible estimate is with a simulation:\n",
    "extreme_value_count = 0\n",
    "for _ in range(100000):\n",
    "    num_heads = sum(1 if random.random() < 0.5 else 0 for _ in range(1000))\n",
    "    if num_heads >= 530 or num_heads <= 470:\n",
    "        extreme_value_count += 1\n",
    "print(\"{} / 100000 = {}\".format(extreme_value_count, extreme_value_count/100000))"
   ]
  },
  {
   "cell_type": "code",
   "execution_count": null,
   "metadata": {},
   "outputs": [],
   "source": []
  }
 ],
 "metadata": {
  "kernelspec": {
   "display_name": "Python 3",
   "language": "python",
   "name": "python3"
  },
  "language_info": {
   "codemirror_mode": {
    "name": "ipython",
    "version": 3
   },
   "file_extension": ".py",
   "mimetype": "text/x-python",
   "name": "python",
   "nbconvert_exporter": "python",
   "pygments_lexer": "ipython3",
   "version": "3.6.5"
  }
 },
 "nbformat": 4,
 "nbformat_minor": 2
}
